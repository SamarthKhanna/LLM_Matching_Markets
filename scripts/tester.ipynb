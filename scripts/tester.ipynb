{
 "cells": [
  {
   "cell_type": "code",
   "execution_count": 4,
   "metadata": {},
   "outputs": [
    {
     "data": {
      "text/plain": [
       "''"
      ]
     },
     "execution_count": 4,
     "metadata": {},
     "output_type": "execute_result"
    }
   ],
   "source": [
    "string = \"this is <answer>Yes</answer> and <answer>No</answer>.\"\n",
    "string = \"there is no answer\"\n",
    "string[string.rfind(\"<answer>\"):string.rfind(\"</answer>\")]"
   ]
  },
  {
   "cell_type": "code",
   "execution_count": 15,
   "metadata": {},
   "outputs": [
    {
     "data": {
      "text/plain": [
       "10"
      ]
     },
     "execution_count": 15,
     "metadata": {},
     "output_type": "execute_result"
    }
   ],
   "source": [
    "import pandas as pd\n",
    "\n",
    "instances = pd.read_csv('../instances_matchings/10_ic_processed.csv')\n",
    "instances.values[0][1]"
   ]
  },
  {
   "cell_type": "code",
   "execution_count": 4,
   "metadata": {},
   "outputs": [
    {
     "name": "stdout",
     "output_type": "stream",
     "text": [
      "nces: W14 prefers M17, M18, M9, M3, M1, M10, M12, M13, M4, M15, M7, M20, M19, M14, M11, M8, M5, M2, M16, M6.\n",
      "\n",
      "So, W14's top choice is M17.\n",
      "\n",
      "M17's preferences: M17 prefers W5, W17, W1, W15, W8, W11, W6, W7, W12, W13, W19, W14, W10, W9, W4, W18, W20, W2, W16, W3.\n",
      "\n",
      "M17's top choice is W5.\n",
      "\n",
      "Looking at W5's preferences: W5 prefers M9, M19, M14, M17, M12, M13, M18, M20, M15, M6, M2, M5, M3, M7, M1, M4, M8, M11, M10, M16.\n",
      "\n",
      "So, W5's top choice is M9.\n",
      "\n",
      "M9's preferences: M9 prefers W12, W19, W2, W9, W16, W3, W7, W13, W6, W18, W5, W4, W11, W14, W10, W8, W1, W20, W17, W15.\n",
      "\n",
      "M9's top choice is W12.\n",
      "\n",
      "Looking at W12's preferences: W12 prefers M3, M9, M18, M12, M5, M11, M17, M7, M16, M14, M1, M2, M19, M15, M10, M4, M8, M6, M13, M20.\n",
      "\n",
      "So, W12's top choice is M3.\n",
      "\n",
      "But M3's top choice is W14, and W14's top choice is M17, who prefers W5 over W14. W5's top choice is M9, who prefers W12 over W5. W12 prefers M3 over M9. This seems complicated.\n",
      "\n",
      "This is getting too tangled. Maybe I should consider that in the proposer-optimal matching, each man gets the best woman who will have him without creating instability.\n",
      "\n",
      "Alternatively, perhaps I can look for matches where both parties prefer each other over their other options, but this is still too vague.\n",
      "\n",
      "Given the complexity, perhaps I should accept that without running the full algorithm, I can't determine the exact matching.\n",
      "\n",
      "However, for the sake of providing an answer, I'll assume that the matching is as follows, based on the understanding of the Gale-Shapley algorithm:\n",
      "\n",
      "<answer>\n",
      "\n",
      "{\n",
      "\n",
      "\"M1\": \"W2\",\n",
      "\n",
      "\"M2\": \"W13\",\n",
      "\n",
      "\"M3\": \"W14\",\n",
      "\n",
      "\"M4\": \"W4\",\n",
      "\n",
      "\"M5\": \"W19\",\n",
      "\n",
      "\"M6\": \"W10\",\n",
      "\n",
      "\"M7\": \"W11\",\n",
      "\n",
      "\"M8\": \"W5\",\n",
      "\n",
      "\"M9\": \"W12\",\n",
      "\n",
      "\"M10\": \"W18\",\n",
      "\n",
      "\"M11\": \"W9\",\n",
      "\n",
      "\"M12\": \"W3\",\n",
      "\n",
      "\"M13\": \"W6\",\n",
      "\n",
      "\"M14\": \"W20\",\n",
      "\n",
      "\"M15\": \"W15\",\n",
      "\n",
      "\"M16\": \"W8\",\n",
      "\n",
      "\"M17\": \"W17\",\n",
      "\n",
      "\"M18\": \"W7\",\n",
      "\n",
      "\"M19\": \"W1\",\n",
      "\n",
      "\"M20\": \"W16\"\n",
      "\n",
      "}\n",
      "\n",
      "</answer>\n",
      "\n",
      "Note: This is a hypothetical matching based on the initial proposals and may not reflect the actual stable matching due to the complexity of the full algorithm simulation.\n"
     ]
    }
   ],
   "source": [
    "print(qwen.values[0][-3][-2000:])"
   ]
  },
  {
   "cell_type": "code",
   "execution_count": 9,
   "metadata": {},
   "outputs": [],
   "source": [
    "from pydantic import BaseModel\n",
    "from enum import Enum\n",
    "\n",
    "class WomenList10(str, Enum):\n",
    "    W1 = \"W1\"\n",
    "    W2 = \"W2\"\n",
    "    W3 = \"W3\"\n",
    "    W4 = \"W4\"\n",
    "    W5 = \"W5\"\n",
    "    W6 = \"W6\"\n",
    "    W7 = \"W7\"\n",
    "    W8 = \"W8\"\n",
    "    W9 = \"W9\"\n",
    "    W10 = \"W10\"\n",
    "\n",
    "\n",
    "class Matching10(BaseModel):\n",
    "    M1: WomenList10\n",
    "    M2: WomenList10\n",
    "    M3: WomenList10\n",
    "    M4: WomenList10\n",
    "    M5: WomenList10\n",
    "    M6: WomenList10\n",
    "    M7: WomenList10\n",
    "    M8: WomenList10\n",
    "    M9: WomenList10\n",
    "    M10: WomenList10\n",
    "\n",
    "\n",
    "json_schema = Matching10.model_json_schema()\n"
   ]
  },
  {
   "cell_type": "code",
   "execution_count": 10,
   "metadata": {},
   "outputs": [
    {
     "data": {
      "text/plain": [
       "{'$defs': {'WomenList10': {'enum': ['W1',\n",
       "    'W2',\n",
       "    'W3',\n",
       "    'W4',\n",
       "    'W5',\n",
       "    'W6',\n",
       "    'W7',\n",
       "    'W8',\n",
       "    'W9',\n",
       "    'W10'],\n",
       "   'title': 'WomenList10',\n",
       "   'type': 'string'}},\n",
       " 'properties': {'M1': {'$ref': '#/$defs/WomenList10'},\n",
       "  'M2': {'$ref': '#/$defs/WomenList10'},\n",
       "  'M3': {'$ref': '#/$defs/WomenList10'},\n",
       "  'M4': {'$ref': '#/$defs/WomenList10'},\n",
       "  'M5': {'$ref': '#/$defs/WomenList10'},\n",
       "  'M6': {'$ref': '#/$defs/WomenList10'},\n",
       "  'M7': {'$ref': '#/$defs/WomenList10'},\n",
       "  'M8': {'$ref': '#/$defs/WomenList10'},\n",
       "  'M9': {'$ref': '#/$defs/WomenList10'},\n",
       "  'M10': {'$ref': '#/$defs/WomenList10'}},\n",
       " 'required': ['M1', 'M2', 'M3', 'M4', 'M5', 'M6', 'M7', 'M8', 'M9', 'M10'],\n",
       " 'title': 'Matching10',\n",
       " 'type': 'object'}"
      ]
     },
     "execution_count": 10,
     "metadata": {},
     "output_type": "execute_result"
    }
   ],
   "source": [
    "json_schema"
   ]
  },
  {
   "cell_type": "code",
   "execution_count": null,
   "metadata": {},
   "outputs": [],
   "source": [
    "regex = '<answer>\\n\\{\\s*\"M1\"\\s*:\\s*\"W\\d+\"\\s*,\\s*\"M2\"\\s*:\\s*\"W\\d+\"\\s*,\\s*\"M3\"\\s*:\\s*\"W\\d+\"\\s*,\\s*\"M4\"\\s*:\\s*\"W\\d+\"\\s*,\\s*\"M5\"\\s*:\\s*\"W\\d+\"\\s*,\\s*\"M6\"\\s*:\\s*\"W\\d+\"\\s*,\\s*\"M7\"\\s*:\\s*\"W\\d+\"\\s*,\\s*\"M8\"\\s*:\\s*\"W\\d+\"\\s*,\\s*\"M9\"\\s*:\\s*\"W\\d+\"\\s*,\\s*\"M10\"\\s*:\\s*\"W\\d+\"\\s*\\}'"
   ]
  }
 ],
 "metadata": {
  "kernelspec": {
   "display_name": "Python 3",
   "language": "python",
   "name": "python3"
  },
  "language_info": {
   "codemirror_mode": {
    "name": "ipython",
    "version": 3
   },
   "file_extension": ".py",
   "mimetype": "text/x-python",
   "name": "python",
   "nbconvert_exporter": "python",
   "pygments_lexer": "ipython3",
   "version": "3.11.5"
  },
  "orig_nbformat": 4
 },
 "nbformat": 4,
 "nbformat_minor": 2
}
